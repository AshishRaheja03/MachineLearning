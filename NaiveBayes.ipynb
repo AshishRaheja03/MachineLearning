{
 "cells": [
  {
   "cell_type": "code",
   "execution_count": 1,
   "metadata": {},
   "outputs": [],
   "source": [
    "import numpy as np\n",
    "from sklearn import datasets, model_selection"
   ]
  },
  {
   "cell_type": "code",
   "execution_count": 2,
   "metadata": {},
   "outputs": [],
   "source": [
    "iris_data = datasets.load_iris()\n",
    "X = iris_data.data\n",
    "Y = iris_data.target"
   ]
  },
  {
   "cell_type": "code",
   "execution_count": 3,
   "metadata": {},
   "outputs": [],
   "source": [
    "def discreteVal(x):\n",
    "    for j in range(x.shape[-1]):\n",
    "        mean_val = x[:,j].mean()\n",
    "        for i in range(len(x[:,j])):\n",
    "            if(x[i][j] < mean_val/2):\n",
    "                x[i][j] = 0\n",
    "            elif(x[i][j] < mean_val):\n",
    "                x[i][j] = 1\n",
    "            elif(x[i][j] < (3*mean_val/2)):\n",
    "                x[i][j] = 2\n",
    "            else:\n",
    "                x[i][j] = 3\n",
    "    return x"
   ]
  },
  {
   "cell_type": "code",
   "execution_count": 4,
   "metadata": {},
   "outputs": [],
   "source": [
    "X_discrete = discreteVal(X)"
   ]
  },
  {
   "cell_type": "code",
   "execution_count": 5,
   "metadata": {},
   "outputs": [
    {
     "name": "stdout",
     "output_type": "stream",
     "text": [
      "(112, 4) (38, 4)\n",
      "(112,) (38,)\n"
     ]
    }
   ],
   "source": [
    "x_train, x_test, y_train, y_test = model_selection.train_test_split(X_discrete, Y, test_size = 0.25, random_state = 0)\n",
    "print(x_train.shape, x_test.shape)\n",
    "print(y_train.shape, y_test.shape)"
   ]
  },
  {
   "cell_type": "code",
   "execution_count": 6,
   "metadata": {},
   "outputs": [],
   "source": [
    "def fit(x,y):\n",
    "    count_dict = {}\n",
    "    count_dict[\"totalData\"] = len(y)\n",
    "    y_classes = set(y)\n",
    "    for y_class in y_classes:\n",
    "        count_dict[y_class] = {}        \n",
    "        y_current_class = y[y == y_class]\n",
    "        x_current_class = x[y == y_class]\n",
    "        count_dict[y_class][\"totalCount\"] = len(y_current_class)\n",
    "        n_features = x.shape[1]\n",
    "        for j in range(1,n_features+1):\n",
    "            count_dict[y_class][j] = {}\n",
    "            xj_values = set(x[:,j-1])\n",
    "            for xj_val in xj_values:\n",
    "                count_dict[y_class][j][xj_val] = (x_current_class[:,j-1] == xj_val).sum()        \n",
    "    return count_dict"
   ]
  },
  {
   "cell_type": "code",
   "execution_count": 7,
   "metadata": {},
   "outputs": [],
   "source": [
    "def predict(count_dict, x_test):\n",
    "    y_pred = []\n",
    "    y_classes = count_dict.keys()\n",
    "    for x in x_test:        \n",
    "        max_prob = 0\n",
    "        best_class = 0\n",
    "        flag = True\n",
    "        for y_class in y_classes:\n",
    "            if(y_class == \"totalData\"):\n",
    "                continue\n",
    "            prob = np.log(count_dict[y_class][\"totalCount\"]/count_dict[\"totalData\"])\n",
    "            n_features = len(count_dict[y_class].keys()) - 1\n",
    "            for j in range(1, n_features+1):\n",
    "                xj_val = x[j-1]\n",
    "                count_of_xj = count_dict[y_class][j][xj_val]+1\n",
    "                p_xj_val = np.log(count_of_xj/(count_dict[y_class][\"totalCount\"]+len(count_dict[y_class][j].keys())))\n",
    "                prob = prob + p_xj_val\n",
    "            if(flag or (max_prob < prob)):\n",
    "                max_prob = prob\n",
    "                best_class = y_class\n",
    "            flag = False\n",
    "        y_pred.append(best_class)\n",
    "    return y_pred"
   ]
  },
  {
   "cell_type": "code",
   "execution_count": 8,
   "metadata": {},
   "outputs": [],
   "source": [
    "c_dict = fit(x_train,y_train)"
   ]
  },
  {
   "cell_type": "code",
   "execution_count": 9,
   "metadata": {},
   "outputs": [],
   "source": [
    "y_pred = predict(c_dict, x_test)"
   ]
  },
  {
   "cell_type": "code",
   "execution_count": 10,
   "metadata": {},
   "outputs": [],
   "source": [
    "from sklearn.metrics import classification_report, confusion_matrix"
   ]
  },
  {
   "cell_type": "code",
   "execution_count": 11,
   "metadata": {},
   "outputs": [
    {
     "name": "stdout",
     "output_type": "stream",
     "text": [
      "[[13  0  0]\n",
      " [ 0 16  0]\n",
      " [ 0  1  8]]\n",
      "              precision    recall  f1-score   support\n",
      "\n",
      "           0       1.00      1.00      1.00        13\n",
      "           1       0.94      1.00      0.97        16\n",
      "           2       1.00      0.89      0.94         9\n",
      "\n",
      "   micro avg       0.97      0.97      0.97        38\n",
      "   macro avg       0.98      0.96      0.97        38\n",
      "weighted avg       0.98      0.97      0.97        38\n",
      "\n"
     ]
    }
   ],
   "source": [
    "print(confusion_matrix(y_test, y_pred))\n",
    "print(classification_report(y_test, y_pred))"
   ]
  },
  {
   "cell_type": "code",
   "execution_count": null,
   "metadata": {},
   "outputs": [],
   "source": []
  }
 ],
 "metadata": {
  "kernelspec": {
   "display_name": "Python 3",
   "language": "python",
   "name": "python3"
  },
  "language_info": {
   "codemirror_mode": {
    "name": "ipython",
    "version": 3
   },
   "file_extension": ".py",
   "mimetype": "text/x-python",
   "name": "python",
   "nbconvert_exporter": "python",
   "pygments_lexer": "ipython3",
   "version": "3.7.1"
  }
 },
 "nbformat": 4,
 "nbformat_minor": 2
}
